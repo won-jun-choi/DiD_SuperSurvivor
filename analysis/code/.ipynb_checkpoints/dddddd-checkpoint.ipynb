{
 "cells": [
  {
   "cell_type": "code",
   "execution_count": 43,
   "id": "2df288ef-0053-4cf1-8544-72326b85fb75",
   "metadata": {
    "tags": []
   },
   "outputs": [],
   "source": [
    "import numpy as np\n",
    "import scipy as sc\n",
    "import statsmodels.api as sm\n",
    "from statsmodels.discrete.discrete_model import Probit as probit\n"
   ]
  },
  {
   "cell_type": "code",
   "execution_count": 71,
   "id": "702d418e-31ef-4c87-ac9e-344196f2605c",
   "metadata": {
    "tags": []
   },
   "outputs": [
    {
     "data": {
      "text/plain": [
       "0.626"
      ]
     },
     "execution_count": 71,
     "metadata": {},
     "output_type": "execute_result"
    }
   ],
   "source": [
    "n = 1000\n",
    "X1 = np.random.normal(size=n)\n",
    "Z = np.random.binomial(1,0.5,size=n)\n",
    "X2 = Z\n",
    "X = np.column_stack([np.ones(len(X1)),X1,X2])\n",
    "Y0 = 1 + 2*X1 + 3*X2 + np.random.normal(size=n)\n",
    "\n",
    "\n",
    "Dstar = -1 + 100*(Z==1) + 0.3*(Z==0) + np.random.normal(size=n)\n",
    "D = (sc.stats.norm.cdf(Dstar) >= 0.5)\n",
    "\n",
    "Y1 = Y0 + 3*D\n",
    "Y = D*Y1 + (1-D)*Y0\n",
    "\n",
    "D.mean()"
   ]
  },
  {
   "cell_type": "code",
   "execution_count": 74,
   "id": "3e1064b0-11ce-4c00-a691-9acca3bbf124",
   "metadata": {
    "tags": []
   },
   "outputs": [
    {
     "name": "stdout",
     "output_type": "stream",
     "text": [
      "Warning: Maximum number of iterations has been exceeded.\n",
      "         Current function value: 0.292997\n",
      "         Iterations: 35\n",
      "Warning: Maximum number of iterations has been exceeded.\n",
      "         Current function value: 0.352119\n",
      "         Iterations: 35\n"
     ]
    },
    {
     "name": "stderr",
     "output_type": "stream",
     "text": [
      "/home/wonjun/anaconda3/lib/python3.11/site-packages/statsmodels/base/model.py:607: ConvergenceWarning: Maximum Likelihood optimization failed to converge. Check mle_retvals\n",
      "  warnings.warn(\"Maximum Likelihood optimization failed to \"\n",
      "/home/wonjun/anaconda3/lib/python3.11/site-packages/statsmodels/base/model.py:607: ConvergenceWarning: Maximum Likelihood optimization failed to converge. Check mle_retvals\n",
      "  warnings.warn(\"Maximum Likelihood optimization failed to \"\n"
     ]
    }
   ],
   "source": [
    "# Propensity score\n",
    "propensity_score = probit(D,X).fit().predict()\n",
    "\n",
    "# supersurvivor\n",
    "p_uncured = probit(D,Z).fit().predict()\n"
   ]
  },
  {
   "cell_type": "code",
   "execution_count": 81,
   "id": "ea507055-da32-4bf5-8100-4dca390f1299",
   "metadata": {
    "tags": []
   },
   "outputs": [
    {
     "data": {
      "text/plain": [
       "492"
      ]
     },
     "execution_count": 81,
     "metadata": {},
     "output_type": "execute_result"
    }
   ],
   "source": [
    "np.sum(Z*D)  # Complier with Z=1"
   ]
  },
  {
   "cell_type": "code",
   "execution_count": 84,
   "id": "7cccdb36-78ca-4f05-8ba7-335913df7d58",
   "metadata": {
    "tags": []
   },
   "outputs": [
    {
     "data": {
      "text/plain": [
       "374"
      ]
     },
     "execution_count": 84,
     "metadata": {},
     "output_type": "execute_result"
    }
   ],
   "source": [
    "np.sum((1-Z)*(1-D)) # Complier with Z=0"
   ]
  },
  {
   "cell_type": "code",
   "execution_count": 82,
   "id": "fa7a5c0f-4475-47a4-b7cd-70bbb6fbd71e",
   "metadata": {
    "tags": []
   },
   "outputs": [
    {
     "data": {
      "text/plain": [
       "134"
      ]
     },
     "execution_count": 82,
     "metadata": {},
     "output_type": "execute_result"
    }
   ],
   "source": [
    "np.sum((1-Z)*D)  # Z=0, D=1 (AT)"
   ]
  },
  {
   "cell_type": "code",
   "execution_count": 85,
   "id": "b2d70103-3605-494d-87ba-bdabc77cc199",
   "metadata": {
    "tags": []
   },
   "outputs": [
    {
     "data": {
      "text/plain": [
       "0"
      ]
     },
     "execution_count": 85,
     "metadata": {},
     "output_type": "execute_result"
    }
   ],
   "source": [
    "np.sum(Z*(1-D)) # Never taker"
   ]
  },
  {
   "cell_type": "code",
   "execution_count": 83,
   "id": "0c0d98d5-6c30-4ca2-ba0d-37524339055c",
   "metadata": {
    "tags": []
   },
   "outputs": [
    {
     "data": {
      "text/plain": [
       "626"
      ]
     },
     "execution_count": 83,
     "metadata": {},
     "output_type": "execute_result"
    }
   ],
   "source": [
    "np.sum(D) # AT + Complier"
   ]
  },
  {
   "cell_type": "code",
   "execution_count": null,
   "id": "4861cda3-a970-44f1-bb76-9ba8863be6b7",
   "metadata": {},
   "outputs": [],
   "source": []
  }
 ],
 "metadata": {
  "kernelspec": {
   "display_name": "Python 3 (ipykernel)",
   "language": "python",
   "name": "python3"
  },
  "language_info": {
   "codemirror_mode": {
    "name": "ipython",
    "version": 3
   },
   "file_extension": ".py",
   "mimetype": "text/x-python",
   "name": "python",
   "nbconvert_exporter": "python",
   "pygments_lexer": "ipython3",
   "version": "3.11.4"
  }
 },
 "nbformat": 4,
 "nbformat_minor": 5
}
